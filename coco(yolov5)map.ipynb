{
  "nbformat": 4,
  "nbformat_minor": 0,
  "metadata": {
    "colab": {
      "provenance": []
    },
    "kernelspec": {
      "name": "python3",
      "display_name": "Python 3"
    },
    "language_info": {
      "name": "python"
    }
  },
  "cells": [
    {
      "cell_type": "code",
      "source": [
        "from google.colab import drive\n",
        "drive.mount('/content/gdrive')"
      ],
      "metadata": {
        "id": "POnMDfpzr1Ea"
      },
      "execution_count": null,
      "outputs": []
    },
    {
      "cell_type": "code",
      "source": [
        "!git clone https://github.com/ultralytics/yolov5.git\n"
      ],
      "metadata": {
        "id": "IsJhKGfwsJoq"
      },
      "execution_count": null,
      "outputs": []
    },
    {
      "cell_type": "code",
      "source": [
        "!pip install -r yolov5/requirements.txt\n"
      ],
      "metadata": {
        "id": "jFmPIMC-stU6"
      },
      "execution_count": null,
      "outputs": []
    },
    {
      "cell_type": "code",
      "source": [
        "!curl -LJO https://github.com/ultralytics/yolov5/releases/download/v3.1/yolov5x6.pt\n"
      ],
      "metadata": {
        "id": "XyV4J_aCtIFt"
      },
      "execution_count": null,
      "outputs": []
    },
    {
      "cell_type": "code",
      "source": [
        "import torch\n",
        "import torchvision\n",
        "import cv2\n",
        "\n",
        "# Load model\n",
        "model = torch.hub.load('ultralytics/yolov5', 'yolov5s', pretrained=True, force_reload=True)\n",
        "\n",
        "\n",
        "# Load classes\n",
        "with open('/content/yolov5/data.yml') as f:\n",
        "    classes = f.read().splitlines()[3:]\n",
        "    \n",
        "# Load image\n",
        "img = cv2.imread('/airplane.jpg')\n",
        "\n",
        "# Perform inference\n",
        "results = model(img)\n",
        "\n",
        "# Print results\n",
        "print(results.pandas().xyxy[0])\n",
        "\n",
        "# Visualize results\n",
        "results.show()\n"
      ],
      "metadata": {
        "id": "NmI87szZtJj_"
      },
      "execution_count": null,
      "outputs": []
    },
    {
      "cell_type": "code",
      "source": [
        "!python /content/yolov5/val.py --weights /content/yolov5s.pt --data /content/yolov5/data.yml --img 640 --iou 0.65\n"
      ],
      "metadata": {
        "id": "Wg8RrLVNtkEv"
      },
      "execution_count": null,
      "outputs": []
    },
    {
      "cell_type": "code",
      "source": [
        "import cv2\n",
        "import numpy as np\n",
        "\n",
        "# Load the image\n",
        "img = cv2.imread('/content/yolov5/runs/val/exp/confusion_matrix.png')\n",
        "\n",
        "# Convert to grayscale and threshold the image to binary\n",
        "gray = cv2.cvtColor(img, cv2.COLOR_BGR2GRAY)\n",
        "_, binary = cv2.threshold(gray, 127, 255, cv2.THRESH_BINARY)\n",
        "\n",
        "# Find contours in the binary image\n",
        "contours, _ = cv2.findContours(binary, cv2.RETR_EXTERNAL, cv2.CHAIN_APPROX_SIMPLE)\n",
        "\n",
        "# Get the coordinates of the bounding box around the contours\n",
        "x, y, w, h = cv2.boundingRect(contours[0])\n",
        "\n",
        "# Crop the image to the bounding box\n",
        "cropped = img[y:y+h, x:x+w]\n",
        "\n",
        "# Convert the cropped image to a NumPy array\n",
        "confusion_matrix = np.array(cropped)\n",
        "\n",
        "\n",
        "import numpy as np\n",
        "\n",
        "# Define the confusion matrix (rows are ground truth, columns are predictions)\n",
        "confusion_matrix = np.array([[10, 5, 0], [3, 20, 2], [0, 1, 15]])\n",
        "\n",
        "# Calculate the precision and recall for each class\n",
        "precision = np.diag(confusion_matrix) / np.sum(confusion_matrix, axis=0)\n",
        "recall = np.diag(confusion_matrix) / np.sum(confusion_matrix, axis=1)\n",
        "\n",
        "# Compute the average precision (AP) for each class\n",
        "ap = np.mean([precision, recall], axis=0)\n",
        "\n",
        "# Compute the mean average precision (mAP) by averaging the AP values\n",
        "mAP = np.mean(ap)\n",
        "print(\"mAP:\", mAP)\n",
        "\n"
      ],
      "metadata": {
        "id": "rfixPKrBwVFX"
      },
      "execution_count": null,
      "outputs": []
    },
    {
      "cell_type": "code",
      "source": [],
      "metadata": {
        "id": "uluLXLQJwfEr"
      },
      "execution_count": null,
      "outputs": []
    }
  ]
}